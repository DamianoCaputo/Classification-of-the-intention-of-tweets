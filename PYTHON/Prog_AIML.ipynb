{
 "cells": [
  {
   "cell_type": "markdown",
   "metadata": {},
   "source": [
    "## LIBRERIE UTILIZZATE\n"
   ]
  },
  {
   "cell_type": "code",
   "execution_count": 1,
   "metadata": {},
   "outputs": [],
   "source": [
    "#manipolazione dei dati\n",
    "import re #per usare i metodi regex\n",
    "import pandas as pd \n",
    "import numpy as np \n",
    "import matplotlib.pyplot as plt \n",
    "import seaborn as sns\n",
    "\n",
    "#tecniche di text mining per la pulizia \n",
    "import nltk\n",
    "from nltk.corpus import stopwords  #rimozione delle stopword \n",
    "from nltk.tokenize import word_tokenize, RegexpTokenizer#tokenizzazione \n",
    "from nltk.stem import PorterStemmer #stemmming\n",
    "from nltk.stem import WordNetLemmatizer #lemmatization\n",
    "from nltk.tokenize import word_tokenize#tokenizzazione \n",
    "from nltk.probability import FreqDist\n",
    "\n",
    "#apprendimento per gli algoritmi\n",
    "import random \n",
    "from sklearn.feature_extraction.text import CountVectorizer\n",
    "from sklearn.feature_extraction.text import TfidfTransformer\n",
    "from sklearn.pipeline import Pipeline\n",
    "from sklearn.model_selection import train_test_split\n",
    "\n",
    "#algoritmi\n",
    "from sklearn.ensemble import RandomForestClassifier\n",
    "from sklearn.svm import SVC\n",
    "from sklearn.naive_bayes import GaussianNB\n",
    "from sklearn.metrics import accuracy_score,roc_auc_score,roc_curve,confusion_matrix,classification_report,f1_score,accuracy_score,precision_score,recall_score\n",
    "from sklearn.tree import DecisionTreeClassifier, plot_tree\n",
    "\n",
    "#sovracampionamento tramite SMOTE\n",
    "from collections import Counter\n",
    "from imblearn.over_sampling import SMOTE"
   ]
  },
  {
   "cell_type": "code",
   "execution_count": 2,
   "metadata": {},
   "outputs": [],
   "source": [
    "#IMPORTO I DATASET E NE CREO UNO UNICO \n",
    "df_1 = pd.read_csv(\"20210310-tweetitaly-holiday.csv\") \n",
    "df_2 = pd.read_csv(\"20210310-tweetitaly-travel.csv\")\n",
    "df_3 = pd.read_csv(\"20210310-tweetitaly-trip.csv\") \n",
    "df_4 = pd.read_csv(\"20210310-tweetitaly-visit.csv\")  \n",
    "\n",
    "df_5 = pd.merge(df_1,df_2, how ='outer')\n",
    "df_6 = pd.merge(df_3,df_4, how='outer')\n",
    "\n",
    "df_7 = pd.merge(df_5,df_6, how='outer')"
   ]
  },
  {
   "cell_type": "code",
   "execution_count": 3,
   "metadata": {},
   "outputs": [],
   "source": [
    "#SALVO IL DATASET TOTALE \n",
    "df_7.to_csv('test_PY.csv')"
   ]
  },
  {
   "cell_type": "markdown",
   "metadata": {},
   "source": [
    "## IMPORTO IL DATASET"
   ]
  },
  {
   "cell_type": "code",
   "execution_count": 4,
   "metadata": {},
   "outputs": [],
   "source": [
    "df =pd.read_csv(\"test_etichettato.csv\")#è stato etichettato completamente su Rstudio"
   ]
  },
  {
   "cell_type": "markdown",
   "metadata": {},
   "source": [
    "## ANALISI DEL DATASET"
   ]
  },
  {
   "cell_type": "code",
   "execution_count": 5,
   "metadata": {},
   "outputs": [
    {
     "name": "stdout",
     "output_type": "stream",
     "text": [
      "<class 'pandas.core.frame.DataFrame'>\n",
      "RangeIndex: 2137 entries, 0 to 2136\n",
      "Data columns (total 11 columns):\n",
      " #   Column         Non-Null Count  Dtype \n",
      "---  ------         --------------  ----- \n",
      " 0   Unnamed: 0     2137 non-null   int64 \n",
      " 1   ...1           2137 non-null   int64 \n",
      " 2   text           2137 non-null   object\n",
      " 3   favorited      2137 non-null   bool  \n",
      " 4   favoriteCount  2137 non-null   int64 \n",
      " 5   created        2137 non-null   object\n",
      " 6   truncated      2137 non-null   bool  \n",
      " 7   screenName     2137 non-null   object\n",
      " 8   retweetCount   2137 non-null   int64 \n",
      " 9   isRetweet      2137 non-null   bool  \n",
      " 10  intention      2137 non-null   object\n",
      "dtypes: bool(3), int64(4), object(4)\n",
      "memory usage: 139.9+ KB\n"
     ]
    }
   ],
   "source": [
    "#stampo informazioni del dataset\n",
    "df.info()"
   ]
  },
  {
   "cell_type": "markdown",
   "metadata": {},
   "source": [
    "### L'etichettatura di ogni riga, quindi la creazione della colonna intention, è stata effettuata su R per comodità personale "
   ]
  },
  {
   "cell_type": "code",
   "execution_count": 6,
   "metadata": {},
   "outputs": [],
   "source": [
    "#rinomino la colonna per creare un indentatura interna al dataset\n",
    "df.rename({'Unnamed: 0':'Indentation'},axis=1,inplace=True)\n",
    "df.drop(['...1'], axis=1, inplace=True)#ripetizione dell'identatura delle rige "
   ]
  },
  {
   "cell_type": "code",
   "execution_count": 7,
   "metadata": {},
   "outputs": [
    {
     "name": "stdout",
     "output_type": "stream",
     "text": [
      "<class 'pandas.core.frame.DataFrame'>\n",
      "RangeIndex: 2137 entries, 0 to 2136\n",
      "Data columns (total 10 columns):\n",
      " #   Column         Non-Null Count  Dtype \n",
      "---  ------         --------------  ----- \n",
      " 0   Indentation    2137 non-null   int64 \n",
      " 1   text           2137 non-null   object\n",
      " 2   favorited      2137 non-null   bool  \n",
      " 3   favoriteCount  2137 non-null   int64 \n",
      " 4   created        2137 non-null   object\n",
      " 5   truncated      2137 non-null   bool  \n",
      " 6   screenName     2137 non-null   object\n",
      " 7   retweetCount   2137 non-null   int64 \n",
      " 8   isRetweet      2137 non-null   bool  \n",
      " 9   intention      2137 non-null   object\n",
      "dtypes: bool(3), int64(3), object(4)\n",
      "memory usage: 123.3+ KB\n"
     ]
    }
   ],
   "source": [
    "df.info()"
   ]
  },
  {
   "cell_type": "code",
   "execution_count": 8,
   "metadata": {},
   "outputs": [
    {
     "data": {
      "text/plain": [
       "Indentation      0\n",
       "text             0\n",
       "favorited        0\n",
       "favoriteCount    0\n",
       "created          0\n",
       "truncated        0\n",
       "screenName       0\n",
       "retweetCount     0\n",
       "isRetweet        0\n",
       "intention        0\n",
       "dtype: int64"
      ]
     },
     "execution_count": 8,
     "metadata": {},
     "output_type": "execute_result"
    }
   ],
   "source": [
    "#Controllo se ci dovessero essere missing values nelle colonne \n",
    "df.isnull().sum()"
   ]
  },
  {
   "cell_type": "code",
   "execution_count": 9,
   "metadata": {},
   "outputs": [
    {
     "data": {
      "text/html": [
       "<div>\n",
       "<style scoped>\n",
       "    .dataframe tbody tr th:only-of-type {\n",
       "        vertical-align: middle;\n",
       "    }\n",
       "\n",
       "    .dataframe tbody tr th {\n",
       "        vertical-align: top;\n",
       "    }\n",
       "\n",
       "    .dataframe thead th {\n",
       "        text-align: right;\n",
       "    }\n",
       "</style>\n",
       "<table border=\"1\" class=\"dataframe\">\n",
       "  <thead>\n",
       "    <tr style=\"text-align: right;\">\n",
       "      <th></th>\n",
       "      <th>Indentation</th>\n",
       "    </tr>\n",
       "    <tr>\n",
       "      <th>intention</th>\n",
       "      <th></th>\n",
       "    </tr>\n",
       "  </thead>\n",
       "  <tbody>\n",
       "    <tr>\n",
       "      <th>N</th>\n",
       "      <td>1977</td>\n",
       "    </tr>\n",
       "    <tr>\n",
       "      <th>Y</th>\n",
       "      <td>160</td>\n",
       "    </tr>\n",
       "  </tbody>\n",
       "</table>\n",
       "</div>"
      ],
      "text/plain": [
       "           Indentation\n",
       "intention             \n",
       "N                 1977\n",
       "Y                  160"
      ]
     },
     "execution_count": 9,
     "metadata": {},
     "output_type": "execute_result"
    }
   ],
   "source": [
    "#con la colonna dell'identatura e dell'intenzione controllo se il num delle istanze corrisponde al numero dell etichette inserite\n",
    "x = df.drop(df.columns.difference(['Indentation']), axis=1).groupby(df.intention).count()\n",
    "x"
   ]
  },
  {
   "cell_type": "code",
   "execution_count": 10,
   "metadata": {},
   "outputs": [
    {
     "data": {
      "image/png": "[encoded data removed]",
      "text/plain": [
       "<Figure size 720x432 with 1 Axes>"
      ]
     },
     "metadata": {
      "needs_background": "light"
     },
     "output_type": "display_data"
    }
   ],
   "source": [
    "#BARPLOT\n",
    "import collections\n",
    "data = df['intention']\n",
    "c = collections.Counter(data)\n",
    "c = sorted(c.items())\n",
    "intention_num= [i[0] for i in c]\n",
    "freq = [i[1] for i in c]\n",
    "plt.figure(figsize=(10,6))\n",
    "plt.bar(intention_num, freq)\n",
    "plt.title(\"Frequency of Intention\")\n",
    "plt.xlabel(\"Intention\")\n",
    "plt.ylabel(\"Frequency\")\n",
    "plt.show()"
   ]
  },
  {
   "cell_type": "markdown",
   "metadata": {},
   "source": [
    "Possiamo affermare che il dataset è fortemente sbilanciato"
   ]
  },
  {
   "cell_type": "markdown",
   "metadata": {},
   "source": [
    "## PULIZIA E TOKENIZZAZIONE"
   ]
  },
  {
   "cell_type": "code",
   "execution_count": 11,
   "metadata": {},
   "outputs": [
    {
     "data": {
      "text/plain": [
       "'.@Roma__Go @Turismoromaweb @Italia @discoveroma Street Performers in #Rome, #Italy.\\r\\r\\r\\n\\r\\r\\r\\n#Streets #streetphoto<U+0085> https://t.co/upVdb3H91s'"
      ]
     },
     "execution_count": 11,
     "metadata": {},
     "output_type": "execute_result"
    }
   ],
   "source": [
    "df['text'][0]"
   ]
  },
  {
   "cell_type": "code",
   "execution_count": 12,
   "metadata": {},
   "outputs": [
    {
     "name": "stdout",
     "output_type": "stream",
     "text": [
      ".@roma__go @turismoromaweb @italia @discoveroma street performers in #rome, #italy.\n",
      "\n",
      "#streets #streetphoto \n"
     ]
    }
   ],
   "source": [
    "df['text'] = df['text'].astype(str).str.lower()#rendo tutto minuscolo la colonna del testo\n",
    "df['text'] = df['text'].replace(r'http\\S+', '', regex=True)#rimozione dei link \n",
    "df['text'] = df['text'].replace(r'<\\S+', '', regex=True)#rimozione dell'eventuali emoji\n",
    "print(df['text'][0])"
   ]
  },
  {
   "cell_type": "code",
   "execution_count": 13,
   "metadata": {},
   "outputs": [
    {
     "name": "stdout",
     "output_type": "stream",
     "text": [
      ".@roma__go @turismoromaweb @italia @discoveroma street performers in #rome, #italy.\n",
      "\n",
      "#streets #streetphoto \n",
      "roma__go turismoromaweb italia discoveroma street performers rome italy streets streetphoto\n"
     ]
    }
   ],
   "source": [
    "#nltk.download('stopwords') #serve per scaricare il dizionario delle stopwords\n",
    "#attraverso nltk tokenizzo e rimuovo le stopword\n",
    "z = RegexpTokenizer('\\w+')\n",
    "df['token']=df['text'].apply(z.tokenize)#con questo metodo si leva anche la punteggiatura\n",
    "\n",
    "#rimozione delle stopwrds inglesi\n",
    "sw = nltk.corpus.stopwords.words(\"english\")\n",
    "df['token'] = df['token'].apply(lambda x: [item for item in x if item not in sw])\n",
    "df['token'] = df['token'].apply(lambda x: ' '.join([item for item in x if len(item)>2]))\n",
    "\n",
    "#controllo se tutto è andato a buon fine \n",
    "print(df['text'][0])\n",
    "print(df['token'][0])"
   ]
  },
  {
   "cell_type": "code",
   "execution_count": 14,
   "metadata": {},
   "outputs": [
    {
     "data": {
      "text/plain": [
       "'london variant problem italy many holiday destinations little vaccinesoon protect holidaymak'"
      ]
     },
     "execution_count": 14,
     "metadata": {},
     "output_type": "execute_result"
    }
   ],
   "source": [
    "#stemming\n",
    "df['token'] = df['token'].astype(str).str.lower()\n",
    "porter = PorterStemmer()\n",
    "df['token'] = df['token'].apply(porter.stem)\n",
    "df['token'][1]"
   ]
  },
  {
   "cell_type": "code",
   "execution_count": 15,
   "metadata": {},
   "outputs": [
    {
     "data": {
      "text/plain": [
       "FreqDist({'italy': 1317, 'visit': 470, 'trip': 435, 'travel': 424, 'holiday': 240, 'itali': 196, 'year': 106, 'first': 99, 'like': 90, 'iraq': 89, ...})"
      ]
     },
     "execution_count": 15,
     "metadata": {},
     "output_type": "execute_result"
    }
   ],
   "source": [
    "all_words = ' '.join([word for word in df['token'].str.replace('\\d+','')])\n",
    "words = nltk.word_tokenize(all_words)\n",
    "freq = FreqDist(words)\n",
    "freq"
   ]
  },
  {
   "cell_type": "code",
   "execution_count": 16,
   "metadata": {},
   "outputs": [
    {
     "data": {
      "image/png": "[encoded data removed]",
      "text/plain": [
       "<Figure size 1080x576 with 1 Axes>"
      ]
     },
     "metadata": {},
     "output_type": "display_data"
    }
   ],
   "source": [
    "#grafico delle frequenze delle parole\n",
    "top_10 = freq.most_common(50)\n",
    "# Create pandas series to make plotting easier\n",
    "fdist = pd.Series(dict(top_10))\n",
    "\n",
    "sns.set(rc = {'figure.figsize':(15,8)})\n",
    "sns.set_theme(style=\"ticks\")\n",
    "sns.barplot(y=fdist.index, x=fdist.values, color='blue');"
   ]
  },
  {
   "cell_type": "markdown",
   "metadata": {},
   "source": [
    "# VETTORIZZAZIONE E CREAZIONE DEL CORPUS"
   ]
  },
  {
   "cell_type": "code",
   "execution_count": 17,
   "metadata": {},
   "outputs": [
    {
     "name": "stdout",
     "output_type": "stream",
     "text": [
      "london variant problem italy many holiday destinations little vaccinesoon protect holidaymak\n"
     ]
    }
   ],
   "source": [
    "col = df['token']\n",
    "corpus = col.values.tolist()\n",
    "print(corpus[1])"
   ]
  },
  {
   "cell_type": "code",
   "execution_count": 18,
   "metadata": {},
   "outputs": [
    {
     "name": "stdout",
     "output_type": "stream",
     "text": [
      "(2137, 6322)\n"
     ]
    }
   ],
   "source": [
    "tf_idf = Pipeline([('cv',CountVectorizer()), ('tfidf_transformer',TfidfTransformer(smooth_idf=True,use_idf=True))])\n",
    "x = tf_idf.fit_transform(corpus).toarray()\n",
    "print(x.shape)"
   ]
  },
  {
   "cell_type": "code",
   "execution_count": 19,
   "metadata": {},
   "outputs": [
    {
     "data": {
      "text/plain": [
       "0       0\n",
       "1       0\n",
       "2       0\n",
       "3       1\n",
       "4       0\n",
       "       ..\n",
       "2132    0\n",
       "2133    0\n",
       "2134    0\n",
       "2135    0\n",
       "2136    0\n",
       "Name: intention, Length: 2137, dtype: int64"
      ]
     },
     "execution_count": 19,
     "metadata": {},
     "output_type": "execute_result"
    }
   ],
   "source": [
    "df['intention'] = df['intention'].replace('N', 0)\n",
    "df['intention'] = df['intention'].replace('Y', 1)\n",
    "y = df['intention']\n",
    "y"
   ]
  },
  {
   "cell_type": "markdown",
   "metadata": {},
   "source": [
    "# APPRENDIMENTO"
   ]
  },
  {
   "cell_type": "code",
   "execution_count": 20,
   "metadata": {},
   "outputs": [
    {
     "name": "stdout",
     "output_type": "stream",
     "text": [
      "Istanze per il Training: (1709, 6322)\n",
      "Istanze per il Testing: (428, 6322)\n"
     ]
    }
   ],
   "source": [
    "random.seed(123)\n",
    "x_train, x_test, y_train, y_test = train_test_split(x, y, test_size=0.2, random_state=0)\n",
    "print('Istanze per il Training:',x_train.shape)\n",
    "print('Istanze per il Testing:',x_test.shape)"
   ]
  },
  {
   "cell_type": "code",
   "execution_count": 21,
   "metadata": {},
   "outputs": [],
   "source": [
    "# Random Forest\n",
    "rf= RandomForestClassifier(n_estimators=500, random_state=42)\n",
    "rf.fit(x_train, y_train)\n",
    "rf_score = rf.score(x_train, y_train)\n",
    "\n",
    "# Linear Support Vector Machine\n",
    "svm = SVC(kernel='linear', probability=True)\n",
    "svm.fit(x_train, y_train)\n",
    "svm_score = svm.score(x_train, y_train)\n",
    "\n",
    "# Naive Bayes\n",
    "nb = GaussianNB()\n",
    "nb.fit(x_train,y_train)\n",
    "nb_score = nb.score(x_train,y_train)\n",
    "\n",
    "# Decision Tree\n",
    "d_tree = DecisionTreeClassifier(criterion=\"entropy\", max_depth=3)\n",
    "d_tree = d_tree.fit(x_train, y_train)\n",
    "d_tree_score = d_tree.score(x_train, y_train)"
   ]
  },
  {
   "cell_type": "markdown",
   "metadata": {},
   "source": [
    "### Confronto dei Valori nel Training"
   ]
  },
  {
   "cell_type": "code",
   "execution_count": 20,
   "metadata": {},
   "outputs": [
    {
     "data": {
      "text/html": [
       "<div>\n",
       "<style scoped>\n",
       "    .dataframe tbody tr th:only-of-type {\n",
       "        vertical-align: middle;\n",
       "    }\n",
       "\n",
       "    .dataframe tbody tr th {\n",
       "        vertical-align: top;\n",
       "    }\n",
       "\n",
       "    .dataframe thead th {\n",
       "        text-align: right;\n",
       "    }\n",
       "</style>\n",
       "<table border=\"1\" class=\"dataframe\">\n",
       "  <thead>\n",
       "    <tr style=\"text-align: right;\">\n",
       "      <th></th>\n",
       "      <th>Algorithm</th>\n",
       "      <th>Accuracy of Training Dataset</th>\n",
       "    </tr>\n",
       "  </thead>\n",
       "  <tbody>\n",
       "    <tr>\n",
       "      <th>0</th>\n",
       "      <td>Random Forest</td>\n",
       "      <td>0.999415</td>\n",
       "    </tr>\n",
       "    <tr>\n",
       "      <th>1</th>\n",
       "      <td>Support Vector Machine</td>\n",
       "      <td>0.970743</td>\n",
       "    </tr>\n",
       "    <tr>\n",
       "      <th>2</th>\n",
       "      <td>Naive Bayes</td>\n",
       "      <td>0.991808</td>\n",
       "    </tr>\n",
       "    <tr>\n",
       "      <th>3</th>\n",
       "      <td>DecisioneTree</td>\n",
       "      <td>0.937390</td>\n",
       "    </tr>\n",
       "  </tbody>\n",
       "</table>\n",
       "</div>"
      ],
      "text/plain": [
       "                Algorithm  Accuracy of Training Dataset\n",
       "0           Random Forest                      0.999415\n",
       "1  Support Vector Machine                      0.970743\n",
       "2             Naive Bayes                      0.991808\n",
       "3           DecisioneTree                      0.937390"
      ]
     },
     "execution_count": 20,
     "metadata": {},
     "output_type": "execute_result"
    }
   ],
   "source": [
    "accuracy = []\n",
    "algorithm = ['Random Forest','Support Vector Machine','Naive Bayes','DecisioneTree']\n",
    "accuracy.append(rf_score)\n",
    "accuracy.append(svm_score)\n",
    "accuracy.append(nb_score)\n",
    "accuracy.append(d_tree_score)\n",
    "score_comparisons = pd.DataFrame(algorithm, columns = ['Algorithm'])\n",
    "score_comparisons['Accuracy of Training Dataset'] = accuracy\n",
    "score_comparisons"
   ]
  },
  {
   "cell_type": "markdown",
   "metadata": {},
   "source": [
    "# Esecuzione Algoritmi"
   ]
  },
  {
   "cell_type": "code",
   "execution_count": 22,
   "metadata": {},
   "outputs": [
    {
     "name": "stdout",
     "output_type": "stream",
     "text": [
      "Istanze per il testing:\n"
     ]
    },
    {
     "data": {
      "text/plain": [
       "0    397\n",
       "1     31\n",
       "Name: intention, dtype: int64"
      ]
     },
     "execution_count": 22,
     "metadata": {},
     "output_type": "execute_result"
    }
   ],
   "source": [
    "print('Istanze per il testing:')\n",
    "y_test.value_counts()"
   ]
  },
  {
   "cell_type": "markdown",
   "metadata": {},
   "source": [
    "## Random Forest"
   ]
  },
  {
   "cell_type": "code",
   "execution_count": 25,
   "metadata": {},
   "outputs": [
    {
     "name": "stdout",
     "output_type": "stream",
     "text": [
      "Accuracy of Testing: 0.927570093457944\n"
     ]
    }
   ],
   "source": [
    "rf_pred = rf.predict(x_test)\n",
    "# Accuracy finale\n",
    "print('Accuracy of Testing:',accuracy_score(y_test,rf_pred))"
   ]
  },
  {
   "cell_type": "code",
   "execution_count": 30,
   "metadata": {},
   "outputs": [
    {
     "name": "stdout",
     "output_type": "stream",
     "text": [
      "\n",
      "True Positives(TP) =  395\n",
      "\n",
      "True Negatives(TN) =  2\n",
      "\n",
      "False Positives(FP) =  2\n",
      "\n",
      "False Negatives(FN) =  29\n"
     ]
    },
    {
     "data": {
      "text/html": [
       "<div>\n",
       "<style scoped>\n",
       "    .dataframe tbody tr th:only-of-type {\n",
       "        vertical-align: middle;\n",
       "    }\n",
       "\n",
       "    .dataframe tbody tr th {\n",
       "        vertical-align: top;\n",
       "    }\n",
       "\n",
       "    .dataframe thead th {\n",
       "        text-align: right;\n",
       "    }\n",
       "</style>\n",
       "<table border=\"1\" class=\"dataframe\">\n",
       "  <thead>\n",
       "    <tr style=\"text-align: right;\">\n",
       "      <th></th>\n",
       "      <th>Actual Positive</th>\n",
       "      <th>Actual Negative</th>\n",
       "    </tr>\n",
       "  </thead>\n",
       "  <tbody>\n",
       "    <tr>\n",
       "      <th>Predict Positive</th>\n",
       "      <td>395</td>\n",
       "      <td>2</td>\n",
       "    </tr>\n",
       "    <tr>\n",
       "      <th>Predict Negative</th>\n",
       "      <td>29</td>\n",
       "      <td>2</td>\n",
       "    </tr>\n",
       "  </tbody>\n",
       "</table>\n",
       "</div>"
      ],
      "text/plain": [
       "                  Actual Positive  Actual Negative\n",
       "Predict Positive              395                2\n",
       "Predict Negative               29                2"
      ]
     },
     "execution_count": 30,
     "metadata": {},
     "output_type": "execute_result"
    }
   ],
   "source": [
    "#creazione della variabile contente la matrice di confusione \n",
    "m_f= confusion_matrix(y_test,rf_pred)\n",
    "\n",
    "#mostro i valori presenti nella matrice \n",
    "print('\\nTrue Positives(TP) = ',m_f[0,0])\n",
    "print('\\nTrue Negatives(TN) = ',m_f[1,1])\n",
    "print('\\nFalse Positives(FP) = ',m_f[0,1])\n",
    "print('\\nFalse Negatives(FN) = ', m_f[1,0])\n",
    "\n",
    "# visualizzazione della matrice di confusione \n",
    "cm= pd.DataFrame(data=m_f, columns=['Actual Positive', 'Actual Negative'], \n",
    "                                 index=['Predict Positive', 'Predict Negative'])\n",
    "cm"
   ]
  },
  {
   "cell_type": "code",
   "execution_count": 31,
   "metadata": {},
   "outputs": [
    {
     "name": "stdout",
     "output_type": "stream",
     "text": [
      "Other Metrics:\n",
      "- TP: 395 , TN: 2 , FP: 2 , FN: 29\n",
      "- Classification accuracy: 0.9276\n",
      "- Classification error: 0.0724\n",
      "- Precision: 0.9950\n",
      "- Recall or Sensitivity: 0.9316\n",
      "- True Positive Rate: 0.9316\n",
      "- False Positive Rate: 0.5000\n",
      "- Specificity: 0.5000\n"
     ]
    }
   ],
   "source": [
    "#valori delle altre metriche \n",
    "class_rf = classification_report(y_test, rf_pred)\n",
    "#print(\"PRINT \", type(class_rf))\n",
    "\n",
    "#print(classification_report(y_test, prediction_forest))\n",
    "# print classification accuracy\n",
    "TP = m_f[0,0]\n",
    "TN = m_f[1,1]\n",
    "FP = m_f[0,1]\n",
    "FN = m_f[1,0]\n",
    "print('Other Metrics:')\n",
    "print('- TP:',TP,\",\",'TN:',TN,\",\",'FP:',FP,\",\",'FN:', FN)\n",
    "classification_accuracy = (TP + TN) / float(TP + TN + FP + FN)\n",
    "print('- Classification accuracy: {0:0.4f}'.format(classification_accuracy))\n",
    "# print classification error\n",
    "classification_error = (FP + FN) / float(TP + TN + FP + FN)\n",
    "print('- Classification error: {0:0.4f}'.format(classification_error))\n",
    "# print precision score\n",
    "precision = TP / float(TP + FP)\n",
    "print('- Precision: {0:0.4f}'.format(precision))\n",
    "# print recall\n",
    "recall = TP / float(TP + FN)\n",
    "print('- Recall or Sensitivity: {0:0.4f}'.format(recall))\n",
    "# punteggio veri positivi\n",
    "true_positive_rate = TP / float(TP + FN)\n",
    "print('- True Positive Rate: {0:0.4f}'.format(true_positive_rate))\n",
    "# punteggio falsi positivi\n",
    "false_positive_rate = FP / float(FP + TN)\n",
    "print('- False Positive Rate: {0:0.4f}'.format(false_positive_rate))\n",
    "# print specifity\n",
    "specificity = TN / (TN + FP)\n",
    "print('- Specificity: {0:0.4f}'.format(specificity))"
   ]
  },
  {
   "cell_type": "code",
   "execution_count": 32,
   "metadata": {},
   "outputs": [
    {
     "data": {
      "image/png": "[encoded data removed]",
      "text/plain": [
       "<Figure size 720x576 with 1 Axes>"
      ]
     },
     "metadata": {},
     "output_type": "display_data"
    }
   ],
   "source": [
    "random.seed(124)\n",
    "#Curva ROC per vedere l'efficacia del classificatore \n",
    "rf_roc = roc_auc_score(y_test, rf.predict(x_test))\n",
    "fpr_rf, tpr_rf, thresholds_rf = roc_curve(y_test, rf.predict_proba(x_test)[:, 1])\n",
    "plt.figure(figsize=(10,8))\n",
    "plt.plot(fpr_rf, tpr_rf, linewidth=2)\n",
    "plt.plot([0,1], [0,1], 'k--' )\n",
    "plt.rcParams['font.size'] = 12\n",
    "plt.title('ROC curve of Random Forest')\n",
    "plt.xlabel('False Positive Rate (1 - Specificity)')\n",
    "plt.ylabel('True Positive Rate (Sensitivity)')\n",
    "plt.show()"
   ]
  },
  {
   "cell_type": "markdown",
   "metadata": {},
   "source": [
    "## Support Vector Machine"
   ]
  },
  {
   "cell_type": "code",
   "execution_count": 21,
   "metadata": {},
   "outputs": [
    {
     "name": "stdout",
     "output_type": "stream",
     "text": [
      "Accuracy finale: 0.927570093457944\n"
     ]
    }
   ],
   "source": [
    "svm_pred = svm.predict(x_test)\n",
    "print('Accuracy finale:',accuracy_score(y_test,svm_pred))"
   ]
  },
  {
   "cell_type": "code",
   "execution_count": 33,
   "metadata": {},
   "outputs": [
    {
     "name": "stdout",
     "output_type": "stream",
     "text": [
      "\n",
      "True Positives(TP) =  393\n",
      "\n",
      "True Negatives(TN) =  4\n",
      "\n",
      "False Positives(FP) =  4\n",
      "\n",
      "False Negatives(FN) =  27\n"
     ]
    },
    {
     "data": {
      "text/html": [
       "<div>\n",
       "<style scoped>\n",
       "    .dataframe tbody tr th:only-of-type {\n",
       "        vertical-align: middle;\n",
       "    }\n",
       "\n",
       "    .dataframe tbody tr th {\n",
       "        vertical-align: top;\n",
       "    }\n",
       "\n",
       "    .dataframe thead th {\n",
       "        text-align: right;\n",
       "    }\n",
       "</style>\n",
       "<table border=\"1\" class=\"dataframe\">\n",
       "  <thead>\n",
       "    <tr style=\"text-align: right;\">\n",
       "      <th></th>\n",
       "      <th>Actual Positive</th>\n",
       "      <th>Actual Negative</th>\n",
       "    </tr>\n",
       "  </thead>\n",
       "  <tbody>\n",
       "    <tr>\n",
       "      <th>Predict Positive</th>\n",
       "      <td>393</td>\n",
       "      <td>4</td>\n",
       "    </tr>\n",
       "    <tr>\n",
       "      <th>Predict Negative</th>\n",
       "      <td>27</td>\n",
       "      <td>4</td>\n",
       "    </tr>\n",
       "  </tbody>\n",
       "</table>\n",
       "</div>"
      ],
      "text/plain": [
       "                  Actual Positive  Actual Negative\n",
       "Predict Positive              393                4\n",
       "Predict Negative               27                4"
      ]
     },
     "execution_count": 33,
     "metadata": {},
     "output_type": "execute_result"
    }
   ],
   "source": [
    "random.seed(123)\n",
    "#creazione della variabile contente la matrice di confusione \n",
    "m_svm= confusion_matrix(y_test,svm_pred)\n",
    "\n",
    "#mostro i valori presenti nella matrice \n",
    "print('\\nTrue Positives(TP) = ',m_svm[0,0])\n",
    "print('\\nTrue Negatives(TN) = ',m_svm[1,1])\n",
    "print('\\nFalse Positives(FP) = ',m_svm[0,1])\n",
    "print('\\nFalse Negatives(FN) = ', m_svm[1,0])\n",
    "\n",
    "# visualizzazione della matrice di confusione \n",
    "cm_svm= pd.DataFrame(data=m_svm, columns=['Actual Positive', 'Actual Negative'], \n",
    "                                 index=['Predict Positive', 'Predict Negative'])\n",
    "cm_svm"
   ]
  },
  {
   "cell_type": "code",
   "execution_count": 34,
   "metadata": {},
   "outputs": [
    {
     "name": "stdout",
     "output_type": "stream",
     "text": [
      "Other Metrics:\n",
      "- TP: 393 , TN: 4 , FP: 4 , FN: 27\n",
      "- Classification accuracy: 0.9276\n",
      "- Classification error: 0.0724\n",
      "- Precision: 0.9899\n",
      "- Recall or Sensitivity: 0.9357\n",
      "- True Positive Rate: 0.9357\n",
      "- False Positive Rate: 0.5000\n",
      "- Specificity: 0.5000\n"
     ]
    }
   ],
   "source": [
    "random.seed(123)\n",
    "#valori delle altre metriche \n",
    "class_svm = classification_report(y_test, svm_pred)\n",
    "#print(\"PRINT \", type(class_rf))\n",
    "\n",
    "#print(classification_report(y_test, prediction_forest))\n",
    "# print classification accuracy\n",
    "TP = m_svm[0,0]\n",
    "TN = m_svm[1,1]\n",
    "FP = m_svm[0,1]\n",
    "FN = m_svm[1,0]\n",
    "print('Other Metrics:')\n",
    "print('- TP:',TP,\",\",'TN:',TN,\",\",'FP:',FP,\",\",'FN:', FN)\n",
    "classification_accuracy = (TP + TN) / float(TP + TN + FP + FN)\n",
    "print('- Classification accuracy: {0:0.4f}'.format(classification_accuracy))\n",
    "# print classification error\n",
    "classification_error = (FP + FN) / float(TP + TN + FP + FN)\n",
    "print('- Classification error: {0:0.4f}'.format(classification_error))\n",
    "# print precision score\n",
    "precision = TP / float(TP + FP)\n",
    "print('- Precision: {0:0.4f}'.format(precision))\n",
    "# print recall\n",
    "recall = TP / float(TP + FN)\n",
    "print('- Recall or Sensitivity: {0:0.4f}'.format(recall))\n",
    "# punteggio veri positivi\n",
    "true_positive_rate = TP / float(TP + FN)\n",
    "print('- True Positive Rate: {0:0.4f}'.format(true_positive_rate))\n",
    "# punteggio falsi positivi\n",
    "false_positive_rate = FP / float(FP + TN)\n",
    "print('- False Positive Rate: {0:0.4f}'.format(false_positive_rate))\n",
    "# print specifity\n",
    "specificity = TN / (TN + FP)\n",
    "print('- Specificity: {0:0.4f}'.format(specificity))"
   ]
  },
  {
   "cell_type": "code",
   "execution_count": 35,
   "metadata": {},
   "outputs": [
    {
     "data": {
      "image/png": "[encoded data removed]",
      "text/plain": [
       "<Figure size 720x576 with 1 Axes>"
      ]
     },
     "metadata": {},
     "output_type": "display_data"
    }
   ],
   "source": [
    "#Curva ROC per vedere l'efficacia del classificatore \n",
    "svm_roc = roc_auc_score(y_test, svm.predict(x_test))\n",
    "fpr_svm, tpr_svm, thresholds_svm = roc_curve(y_test, svm.predict_proba(x_test)[:, 1])\n",
    "plt.figure(figsize=(10,8))\n",
    "plt.plot(fpr_svm, tpr_svm, linewidth=2)\n",
    "plt.plot([0,1], [0,1], 'k--' )\n",
    "plt.rcParams['font.size'] = 12\n",
    "plt.title('ROC curve of SVM')\n",
    "plt.xlabel('False Positive Rate (1 - Specificity)')\n",
    "plt.ylabel('True Positive Rate (Sensitivity)')\n",
    "plt.show()"
   ]
  },
  {
   "cell_type": "markdown",
   "metadata": {},
   "source": [
    "## Naive Bayes"
   ]
  },
  {
   "cell_type": "code",
   "execution_count": 40,
   "metadata": {},
   "outputs": [
    {
     "name": "stdout",
     "output_type": "stream",
     "text": [
      "Accuracy finale: 0.897196261682243\n"
     ]
    }
   ],
   "source": [
    "nb_pred = nb.predict(x_test)\n",
    "print('Accuracy finale:',accuracy_score(y_test,nb_pred))"
   ]
  },
  {
   "cell_type": "code",
   "execution_count": 41,
   "metadata": {},
   "outputs": [
    {
     "name": "stdout",
     "output_type": "stream",
     "text": [
      "\n",
      "True Positives(TP) =  377\n",
      "\n",
      "True Negatives(TN) =  7\n",
      "\n",
      "False Positives(FP) =  20\n",
      "\n",
      "False Negatives(FN) =  24\n"
     ]
    },
    {
     "data": {
      "text/html": [
       "<div>\n",
       "<style scoped>\n",
       "    .dataframe tbody tr th:only-of-type {\n",
       "        vertical-align: middle;\n",
       "    }\n",
       "\n",
       "    .dataframe tbody tr th {\n",
       "        vertical-align: top;\n",
       "    }\n",
       "\n",
       "    .dataframe thead th {\n",
       "        text-align: right;\n",
       "    }\n",
       "</style>\n",
       "<table border=\"1\" class=\"dataframe\">\n",
       "  <thead>\n",
       "    <tr style=\"text-align: right;\">\n",
       "      <th></th>\n",
       "      <th>Actual Positive</th>\n",
       "      <th>Actual Negative</th>\n",
       "    </tr>\n",
       "  </thead>\n",
       "  <tbody>\n",
       "    <tr>\n",
       "      <th>Predict Positive</th>\n",
       "      <td>377</td>\n",
       "      <td>20</td>\n",
       "    </tr>\n",
       "    <tr>\n",
       "      <th>Predict Negative</th>\n",
       "      <td>24</td>\n",
       "      <td>7</td>\n",
       "    </tr>\n",
       "  </tbody>\n",
       "</table>\n",
       "</div>"
      ],
      "text/plain": [
       "                  Actual Positive  Actual Negative\n",
       "Predict Positive              377               20\n",
       "Predict Negative               24                7"
      ]
     },
     "execution_count": 41,
     "metadata": {},
     "output_type": "execute_result"
    }
   ],
   "source": [
    "#creazione della variabile contente la matrice di confusione \n",
    "m_nb = confusion_matrix(y_test,nb_pred)\n",
    "\n",
    "#mostro i valori presenti nella matrice \n",
    "print('\\nTrue Positives(TP) = ',m_nb[0,0])\n",
    "print('\\nTrue Negatives(TN) = ',m_nb[1,1])\n",
    "print('\\nFalse Positives(FP) = ',m_nb[0,1])\n",
    "print('\\nFalse Negatives(FN) = ', m_nb[1,0])\n",
    "\n",
    "# visualizzazione della matrice di confusione \n",
    "cm_nb = pd.DataFrame(data=m_nb, columns=['Actual Positive', 'Actual Negative'], \n",
    "                                 index=['Predict Positive', 'Predict Negative'])\n",
    "cm_nb"
   ]
  },
  {
   "cell_type": "code",
   "execution_count": 78,
   "metadata": {},
   "outputs": [
    {
     "name": "stdout",
     "output_type": "stream",
     "text": [
      "Other Metrics:\n",
      "- TP: 377 , TN: 7 , FP: 20 , FN: 24\n",
      "- Classification accuracy: 0.8972\n",
      "- Classification error: 0.1028\n",
      "- Precision: 0.9496\n",
      "- Recall or Sensitivity: 0.9401\n",
      "- True Positive Rate: 0.9401\n",
      "- False Positive Rate: 0.7407\n",
      "- Specificity: 0.2593\n"
     ]
    }
   ],
   "source": [
    "#valori delle altre metriche \n",
    "class_nb = classification_report(y_test, nb_pred)\n",
    "#print(\"PRINT \", type(class_rf))\n",
    "\n",
    "#print(classification_report(y_test, prediction_forest))\n",
    "# print classification accuracy\n",
    "TP = m_nb[0,0]\n",
    "TN = m_nb[1,1]\n",
    "FP = m_nb[0,1]\n",
    "FN = m_nb[1,0]\n",
    "print('Other Metrics:')\n",
    "print('- TP:',TP,\",\",'TN:',TN,\",\",'FP:',FP,\",\",'FN:', FN)\n",
    "classification_accuracy = (TP + TN) / float(TP + TN + FP + FN)\n",
    "print('- Classification accuracy: {0:0.4f}'.format(classification_accuracy))\n",
    "# print classification error\n",
    "classification_error = (FP + FN) / float(TP + TN + FP + FN)\n",
    "print('- Classification error: {0:0.4f}'.format(classification_error))\n",
    "# print precision score\n",
    "precision = TP / float(TP + FP)\n",
    "print('- Precision: {0:0.4f}'.format(precision))\n",
    "# print recall\n",
    "recall = TP / float(TP + FN)\n",
    "print('- Recall or Sensitivity: {0:0.4f}'.format(recall))\n",
    "# punteggio veri positivi\n",
    "true_positive_rate = TP / float(TP + FN)\n",
    "print('- True Positive Rate: {0:0.4f}'.format(true_positive_rate))\n",
    "# punteggio falsi positivi\n",
    "false_positive_rate = FP / float(FP + TN)\n",
    "print('- False Positive Rate: {0:0.4f}'.format(false_positive_rate))\n",
    "# print specifity\n",
    "specificity = TN / (TN + FP)\n",
    "print('- Specificity: {0:0.4f}'.format(specificity))"
   ]
  },
  {
   "cell_type": "code",
   "execution_count": 79,
   "metadata": {},
   "outputs": [
    {
     "data": {
      "image/png": "[encoded data removed]",
      "text/plain": [
       "<Figure size 720x576 with 1 Axes>"
      ]
     },
     "metadata": {},
     "output_type": "display_data"
    }
   ],
   "source": [
    "#Curva ROC per vedere l'efficacia del classificatore \n",
    "nb_roc = roc_auc_score(y_test, nb.predict(x_test))\n",
    "fpr_nb, tpr_nb, thresholds_nb = roc_curve(y_test, nb.predict_proba(x_test)[:, 1])\n",
    "plt.figure(figsize=(10,8))\n",
    "plt.plot(fpr_nb, tpr_nb, linewidth=2)\n",
    "plt.plot([0,1], [0,1], 'k--' )\n",
    "plt.rcParams['font.size'] = 12\n",
    "plt.title('ROC curve of Naive Bayes')\n",
    "plt.xlabel('False Positive Rate (1 - Specificity)')\n",
    "plt.ylabel('True Positive Rate (Sensitivity)')\n",
    "plt.show()"
   ]
  },
  {
   "cell_type": "markdown",
   "metadata": {},
   "source": [
    "## Decision Tree"
   ]
  },
  {
   "cell_type": "code",
   "execution_count": 22,
   "metadata": {},
   "outputs": [
    {
     "name": "stdout",
     "output_type": "stream",
     "text": [
      "Accuracy finale: 0.9252336448598131\n"
     ]
    }
   ],
   "source": [
    "d_tree_pred = d_tree.predict(x_test)\n",
    "# Accuracy finale\n",
    "print('Accuracy finale:',accuracy_score(y_test,d_tree_pred))"
   ]
  },
  {
   "cell_type": "code",
   "execution_count": 43,
   "metadata": {},
   "outputs": [
    {
     "name": "stdout",
     "output_type": "stream",
     "text": [
      "\n",
      "True Positives(TP) =  394\n",
      "\n",
      "True Negatives(TN) =  2\n",
      "\n",
      "False Positives(FP) =  3\n",
      "\n",
      "False Negatives(FN) =  29\n"
     ]
    },
    {
     "data": {
      "text/html": [
       "<div>\n",
       "<style scoped>\n",
       "    .dataframe tbody tr th:only-of-type {\n",
       "        vertical-align: middle;\n",
       "    }\n",
       "\n",
       "    .dataframe tbody tr th {\n",
       "        vertical-align: top;\n",
       "    }\n",
       "\n",
       "    .dataframe thead th {\n",
       "        text-align: right;\n",
       "    }\n",
       "</style>\n",
       "<table border=\"1\" class=\"dataframe\">\n",
       "  <thead>\n",
       "    <tr style=\"text-align: right;\">\n",
       "      <th></th>\n",
       "      <th>Actual Positive</th>\n",
       "      <th>Actual Negative</th>\n",
       "    </tr>\n",
       "  </thead>\n",
       "  <tbody>\n",
       "    <tr>\n",
       "      <th>Predict Positive</th>\n",
       "      <td>394</td>\n",
       "      <td>3</td>\n",
       "    </tr>\n",
       "    <tr>\n",
       "      <th>Predict Negative</th>\n",
       "      <td>29</td>\n",
       "      <td>2</td>\n",
       "    </tr>\n",
       "  </tbody>\n",
       "</table>\n",
       "</div>"
      ],
      "text/plain": [
       "                  Actual Positive  Actual Negative\n",
       "Predict Positive              394                3\n",
       "Predict Negative               29                2"
      ]
     },
     "execution_count": 43,
     "metadata": {},
     "output_type": "execute_result"
    }
   ],
   "source": [
    "#creazione della variabile contente la matrice di confusione \n",
    "m_dtree= confusion_matrix(y_test,d_tree_pred)\n",
    "\n",
    "#mostro i valori presenti nella matrice \n",
    "print('\\nTrue Positives(TP) = ',m_dtree[0,0])\n",
    "print('\\nTrue Negatives(TN) = ',m_dtree[1,1])\n",
    "print('\\nFalse Positives(FP) = ',m_dtree[0,1])\n",
    "print('\\nFalse Negatives(FN) = ',m_dtree[1,0])\n",
    "\n",
    "# visualizzazione della matrice di confusione \n",
    "cm_dtree= pd.DataFrame(data=m_dtree, columns=['Actual Positive', 'Actual Negative'], \n",
    "                                 index=['Predict Positive', 'Predict Negative'])\n",
    "cm_dtree"
   ]
  },
  {
   "cell_type": "code",
   "execution_count": 44,
   "metadata": {},
   "outputs": [
    {
     "name": "stdout",
     "output_type": "stream",
     "text": [
      "Other Metrics:\n",
      "- TP: 394 , TN: 2 , FP: 3 , FN: 29\n",
      "- Classification accuracy: 0.9252\n",
      "- Classification error: 0.0748\n",
      "- Precision: 0.9924\n",
      "- Recall or Sensitivity: 0.9314\n",
      "- True Positive Rate: 0.9314\n",
      "- False Positive Rate: 0.6000\n",
      "- Specificity: 0.4000\n"
     ]
    }
   ],
   "source": [
    "#valori delle altre metriche \n",
    "class_dtree = classification_report(y_test, d_tree_pred)\n",
    "#print(\"PRINT \", type(class_rf))\n",
    "\n",
    "#print(classification_report(y_test, prediction_forest))\n",
    "# print classification accuracy\n",
    "TP = m_dtree[0,0]\n",
    "TN = m_dtree[1,1]\n",
    "FP = m_dtree[0,1]\n",
    "FN = m_dtree[1,0]\n",
    "print('Other Metrics:')\n",
    "print('- TP:',TP,\",\",'TN:',TN,\",\",'FP:',FP,\",\",'FN:', FN)\n",
    "classification_accuracy = (TP + TN) / float(TP + TN + FP + FN)\n",
    "print('- Classification accuracy: {0:0.4f}'.format(classification_accuracy))\n",
    "# print classification error\n",
    "classification_error = (FP + FN) / float(TP + TN + FP + FN)\n",
    "print('- Classification error: {0:0.4f}'.format(classification_error))\n",
    "# print precision score\n",
    "precision = TP / float(TP + FP)\n",
    "print('- Precision: {0:0.4f}'.format(precision))\n",
    "# print recall\n",
    "recall = TP / float(TP + FN)\n",
    "print('- Recall or Sensitivity: {0:0.4f}'.format(recall))\n",
    "# punteggio veri positivi\n",
    "true_positive_rate = TP / float(TP + FN)\n",
    "print('- True Positive Rate: {0:0.4f}'.format(true_positive_rate))\n",
    "# punteggio falsi positivi\n",
    "false_positive_rate = FP / float(FP + TN)\n",
    "print('- False Positive Rate: {0:0.4f}'.format(false_positive_rate))\n",
    "# print specifity\n",
    "specificity = TN / (TN + FP)\n",
    "print('- Specificity: {0:0.4f}'.format(specificity))"
   ]
  },
  {
   "cell_type": "code",
   "execution_count": 23,
   "metadata": {},
   "outputs": [
    {
     "data": {
      "image/png": "[encoded data removed]",
      "text/plain": [
       "<Figure size 720x576 with 1 Axes>"
      ]
     },
     "metadata": {},
     "output_type": "display_data"
    }
   ],
   "source": [
    "#Curva ROC per vedere l'efficacia del classificatore \n",
    "dtree_roc = roc_auc_score(y_test, d_tree.predict(x_test))\n",
    "fpr_dtree, tpr_dtree, thresholds_dtree = roc_curve(y_test,d_tree.predict_proba(x_test)[:, 1])\n",
    "plt.figure(figsize=(10,8))\n",
    "plt.plot(fpr_dtree, tpr_dtree, linewidth=2)\n",
    "plt.plot([0,1], [0,1], 'k--' )\n",
    "plt.rcParams['font.size'] = 12\n",
    "plt.title('ROC curve of Decision Tree')\n",
    "plt.xlabel('False Positive Rate (1 - Specificity)')\n",
    "plt.ylabel('True Positive Rate (Sensitivity)')\n",
    "plt.show()"
   ]
  },
  {
   "cell_type": "markdown",
   "metadata": {},
   "source": [
    "## Confronto delle ROC Curve"
   ]
  },
  {
   "cell_type": "code",
   "execution_count": 84,
   "metadata": {},
   "outputs": [
    {
     "data": {
      "image/png": "[encoded data removed]",
      "text/plain": [
       "<Figure size 864x720 with 1 Axes>"
      ]
     },
     "metadata": {},
     "output_type": "display_data"
    }
   ],
   "source": [
    "plt.figure(figsize=(12,10))\n",
    "plt.plot(fpr_rf, tpr_rf, linewidth=1)\n",
    "plt.plot(fpr_rf, tpr_rf, label='Random Forest (area = %0.2f)' % rf_roc)\n",
    "plt.plot(fpr_svm, tpr_svm, linewidth=1)\n",
    "plt.plot(fpr_svm, tpr_svm, label='SVM (area = %0.2f)' % svm_roc)\n",
    "plt.plot(fpr_nb, tpr_nb, linewidth=1)\n",
    "plt.plot(fpr_nb, tpr_nb, label='Naive Bayes (area = %0.2f)' % nb_roc)\n",
    "plt.plot(fpr_dtree, tpr_dtree, linewidth=1)\n",
    "plt.plot(fpr_dtree, tpr_dtree, label='Decision Tree (area = %0.2f)' % dtree_roc)\n",
    "plt.plot([0, 1], [0, 1],'r--')\n",
    "plt.xlim([0.0, 1.0])\n",
    "plt.ylim([0.0, 1.05])\n",
    "plt.rcParams['font.size'] = 10\n",
    "plt.xlabel('False Positive Rate')\n",
    "plt.ylabel('True Positive Rate')\n",
    "plt.title('Comparison of ROC Curves')\n",
    "plt.legend(loc=\"lower right\")\n",
    "plt.show()"
   ]
  },
  {
   "cell_type": "markdown",
   "metadata": {},
   "source": [
    "Possiamo quindi affermare che il miglior modello è quello dell'algoritmo SVM"
   ]
  },
  {
   "cell_type": "markdown",
   "metadata": {},
   "source": [
    "# BILANCIAMENTO"
   ]
  },
  {
   "cell_type": "markdown",
   "metadata": {},
   "source": [
    "## SMOTE"
   ]
  },
  {
   "cell_type": "code",
   "execution_count": 25,
   "metadata": {},
   "outputs": [
    {
     "data": {
      "text/html": [
       "<div>\n",
       "<style scoped>\n",
       "    .dataframe tbody tr th:only-of-type {\n",
       "        vertical-align: middle;\n",
       "    }\n",
       "\n",
       "    .dataframe tbody tr th {\n",
       "        vertical-align: top;\n",
       "    }\n",
       "\n",
       "    .dataframe thead th {\n",
       "        text-align: right;\n",
       "    }\n",
       "</style>\n",
       "<table border=\"1\" class=\"dataframe\">\n",
       "  <thead>\n",
       "    <tr style=\"text-align: right;\">\n",
       "      <th></th>\n",
       "      <th>Indentation</th>\n",
       "      <th>text</th>\n",
       "      <th>favorited</th>\n",
       "      <th>favoriteCount</th>\n",
       "      <th>created</th>\n",
       "      <th>truncated</th>\n",
       "      <th>screenName</th>\n",
       "      <th>retweetCount</th>\n",
       "      <th>isRetweet</th>\n",
       "      <th>intention</th>\n",
       "      <th>token</th>\n",
       "    </tr>\n",
       "  </thead>\n",
       "  <tbody>\n",
       "    <tr>\n",
       "      <th>0</th>\n",
       "      <td>1</td>\n",
       "      <td>.@roma__go @turismoromaweb @italia @discoverom...</td>\n",
       "      <td>False</td>\n",
       "      <td>0</td>\n",
       "      <td>2021-03-10</td>\n",
       "      <td>True</td>\n",
       "      <td>GiaHomemade</td>\n",
       "      <td>0</td>\n",
       "      <td>False</td>\n",
       "      <td>0</td>\n",
       "      <td>roma__go turismoromaweb italia discoveroma str...</td>\n",
       "    </tr>\n",
       "    <tr>\n",
       "      <th>1</th>\n",
       "      <td>2</td>\n",
       "      <td>london variant problem in italy and many holid...</td>\n",
       "      <td>False</td>\n",
       "      <td>0</td>\n",
       "      <td>2021-03-10</td>\n",
       "      <td>False</td>\n",
       "      <td>colinwarburton7</td>\n",
       "      <td>0</td>\n",
       "      <td>False</td>\n",
       "      <td>0</td>\n",
       "      <td>london variant problem italy many holiday dest...</td>\n",
       "    </tr>\n",
       "    <tr>\n",
       "      <th>2</th>\n",
       "      <td>3</td>\n",
       "      <td>looking for a fixed based cycling holiday in i...</td>\n",
       "      <td>False</td>\n",
       "      <td>0</td>\n",
       "      <td>2021-03-10</td>\n",
       "      <td>True</td>\n",
       "      <td>hookedoncycling</td>\n",
       "      <td>0</td>\n",
       "      <td>False</td>\n",
       "      <td>0</td>\n",
       "      <td>looking fixed based cycling holiday italy marc...</td>\n",
       "    </tr>\n",
       "    <tr>\n",
       "      <th>3</th>\n",
       "      <td>4</td>\n",
       "      <td>booked a holiday for june 2022! #rome #sorrent...</td>\n",
       "      <td>False</td>\n",
       "      <td>1</td>\n",
       "      <td>2021-03-10</td>\n",
       "      <td>True</td>\n",
       "      <td>ChrisDavidStone</td>\n",
       "      <td>0</td>\n",
       "      <td>False</td>\n",
       "      <td>1</td>\n",
       "      <td>booked holiday june 2022 rome sorrento almafi ...</td>\n",
       "    </tr>\n",
       "    <tr>\n",
       "      <th>4</th>\n",
       "      <td>5</td>\n",
       "      <td>@natiafc me and my brother went on holiday to ...</td>\n",
       "      <td>False</td>\n",
       "      <td>1</td>\n",
       "      <td>2021-03-10</td>\n",
       "      <td>True</td>\n",
       "      <td>lethal_linesh</td>\n",
       "      <td>0</td>\n",
       "      <td>False</td>\n",
       "      <td>0</td>\n",
       "      <td>natiafc brother went holiday italy watched gam...</td>\n",
       "    </tr>\n",
       "    <tr>\n",
       "      <th>...</th>\n",
       "      <td>...</td>\n",
       "      <td>...</td>\n",
       "      <td>...</td>\n",
       "      <td>...</td>\n",
       "      <td>...</td>\n",
       "      <td>...</td>\n",
       "      <td>...</td>\n",
       "      <td>...</td>\n",
       "      <td>...</td>\n",
       "      <td>...</td>\n",
       "      <td>...</td>\n",
       "    </tr>\n",
       "    <tr>\n",
       "      <th>2132</th>\n",
       "      <td>2133</td>\n",
       "      <td>rt @worldwidettips: @trjforbloggers we follow ...</td>\n",
       "      <td>False</td>\n",
       "      <td>0</td>\n",
       "      <td>2021-03-05</td>\n",
       "      <td>False</td>\n",
       "      <td>TRJForBloggers</td>\n",
       "      <td>1</td>\n",
       "      <td>True</td>\n",
       "      <td>0</td>\n",
       "      <td>worldwidettips trjforbloggers follow back retu...</td>\n",
       "    </tr>\n",
       "    <tr>\n",
       "      <th>2133</th>\n",
       "      <td>2134</td>\n",
       "      <td>rt @worldwidettips: @trjforbloggers we follow ...</td>\n",
       "      <td>False</td>\n",
       "      <td>0</td>\n",
       "      <td>2021-03-05</td>\n",
       "      <td>False</td>\n",
       "      <td>TRJForBloggers</td>\n",
       "      <td>1</td>\n",
       "      <td>True</td>\n",
       "      <td>0</td>\n",
       "      <td>worldwidettips trjforbloggers follow back like...</td>\n",
       "    </tr>\n",
       "    <tr>\n",
       "      <th>2134</th>\n",
       "      <td>2135</td>\n",
       "      <td>@terrinakamura terri, if you can imagine it......</td>\n",
       "      <td>False</td>\n",
       "      <td>0</td>\n",
       "      <td>2021-03-05</td>\n",
       "      <td>True</td>\n",
       "      <td>JessanDunnOtis</td>\n",
       "      <td>0</td>\n",
       "      <td>False</td>\n",
       "      <td>0</td>\n",
       "      <td>terrinakamura terri imagine hence amp achievab...</td>\n",
       "    </tr>\n",
       "    <tr>\n",
       "      <th>2135</th>\n",
       "      <td>2136</td>\n",
       "      <td>whenever i go back italy gonna visit this fella</td>\n",
       "      <td>False</td>\n",
       "      <td>1</td>\n",
       "      <td>2021-03-05</td>\n",
       "      <td>False</td>\n",
       "      <td>interaubis</td>\n",
       "      <td>0</td>\n",
       "      <td>False</td>\n",
       "      <td>0</td>\n",
       "      <td>whenever back italy gonna visit fella</td>\n",
       "    </tr>\n",
       "    <tr>\n",
       "      <th>2136</th>\n",
       "      <td>2137</td>\n",
       "      <td>visit my country/ friends/ family \\r\\r\\r\\nkeep...</td>\n",
       "      <td>False</td>\n",
       "      <td>0</td>\n",
       "      <td>2021-03-05</td>\n",
       "      <td>True</td>\n",
       "      <td>BELLA91NEEDY</td>\n",
       "      <td>0</td>\n",
       "      <td>False</td>\n",
       "      <td>0</td>\n",
       "      <td>visit country friends family keep health find ...</td>\n",
       "    </tr>\n",
       "  </tbody>\n",
       "</table>\n",
       "<p>2137 rows × 11 columns</p>\n",
       "</div>"
      ],
      "text/plain": [
       "      Indentation                                               text  \\\n",
       "0               1  .@roma__go @turismoromaweb @italia @discoverom...   \n",
       "1               2  london variant problem in italy and many holid...   \n",
       "2               3  looking for a fixed based cycling holiday in i...   \n",
       "3               4  booked a holiday for june 2022! #rome #sorrent...   \n",
       "4               5  @natiafc me and my brother went on holiday to ...   \n",
       "...           ...                                                ...   \n",
       "2132         2133  rt @worldwidettips: @trjforbloggers we follow ...   \n",
       "2133         2134  rt @worldwidettips: @trjforbloggers we follow ...   \n",
       "2134         2135  @terrinakamura terri, if you can imagine it......   \n",
       "2135         2136  whenever i go back italy gonna visit this fella     \n",
       "2136         2137  visit my country/ friends/ family \\r\\r\\r\\nkeep...   \n",
       "\n",
       "      favorited  favoriteCount     created  truncated       screenName  \\\n",
       "0         False              0  2021-03-10       True      GiaHomemade   \n",
       "1         False              0  2021-03-10      False  colinwarburton7   \n",
       "2         False              0  2021-03-10       True  hookedoncycling   \n",
       "3         False              1  2021-03-10       True  ChrisDavidStone   \n",
       "4         False              1  2021-03-10       True    lethal_linesh   \n",
       "...         ...            ...         ...        ...              ...   \n",
       "2132      False              0  2021-03-05      False   TRJForBloggers   \n",
       "2133      False              0  2021-03-05      False   TRJForBloggers   \n",
       "2134      False              0  2021-03-05       True   JessanDunnOtis   \n",
       "2135      False              1  2021-03-05      False       interaubis   \n",
       "2136      False              0  2021-03-05       True     BELLA91NEEDY   \n",
       "\n",
       "      retweetCount  isRetweet  intention  \\\n",
       "0                0      False          0   \n",
       "1                0      False          0   \n",
       "2                0      False          0   \n",
       "3                0      False          1   \n",
       "4                0      False          0   \n",
       "...            ...        ...        ...   \n",
       "2132             1       True          0   \n",
       "2133             1       True          0   \n",
       "2134             0      False          0   \n",
       "2135             0      False          0   \n",
       "2136             0      False          0   \n",
       "\n",
       "                                                  token  \n",
       "0     roma__go turismoromaweb italia discoveroma str...  \n",
       "1     london variant problem italy many holiday dest...  \n",
       "2     looking fixed based cycling holiday italy marc...  \n",
       "3     booked holiday june 2022 rome sorrento almafi ...  \n",
       "4     natiafc brother went holiday italy watched gam...  \n",
       "...                                                 ...  \n",
       "2132  worldwidettips trjforbloggers follow back retu...  \n",
       "2133  worldwidettips trjforbloggers follow back like...  \n",
       "2134  terrinakamura terri imagine hence amp achievab...  \n",
       "2135              whenever back italy gonna visit fella  \n",
       "2136  visit country friends family keep health find ...  \n",
       "\n",
       "[2137 rows x 11 columns]"
      ]
     },
     "execution_count": 25,
     "metadata": {},
     "output_type": "execute_result"
    }
   ],
   "source": [
    "subset = df \n",
    "subset"
   ]
  },
  {
   "cell_type": "code",
   "execution_count": 26,
   "metadata": {},
   "outputs": [
    {
     "name": "stdout",
     "output_type": "stream",
     "text": [
      "Counter({0: 1977, 1: 160})\n",
      "3954\n",
      "3954\n"
     ]
    }
   ],
   "source": [
    "# N=0 / Y=1\n",
    "print(Counter(subset.intention))\n",
    "\n",
    "# SMOTE algorithm (without string variables)\n",
    "smote = SMOTE(random_state=0)\n",
    "twitter_balanced, label_balanced = smote.fit_resample(x, subset.intention)\n",
    "print(len(twitter_balanced))\n",
    "print(len(label_balanced))"
   ]
  },
  {
   "cell_type": "code",
   "execution_count": 27,
   "metadata": {},
   "outputs": [
    {
     "name": "stdout",
     "output_type": "stream",
     "text": [
      "Counter({0: 1977, 1: 1977})\n"
     ]
    }
   ],
   "source": [
    "print(Counter(label_balanced))"
   ]
  },
  {
   "cell_type": "markdown",
   "metadata": {},
   "source": [
    "# Apprendimento con DB Bilanciato"
   ]
  },
  {
   "cell_type": "code",
   "execution_count": 28,
   "metadata": {},
   "outputs": [
    {
     "name": "stdout",
     "output_type": "stream",
     "text": [
      "Istanze per il Training: (3163, 6322)\n",
      "Istanze per il Testing: (791, 6322)\n"
     ]
    }
   ],
   "source": [
    "random.seed(1234)\n",
    "X_train, X_test, Y_train, Y_test = train_test_split(twitter_balanced,\n",
    "                        label_balanced, test_size=0.2, random_state=0)\n",
    "\n",
    "print('Istanze per il Training:', X_train.shape)\n",
    "print('Istanze per il Testing:', X_test.shape)\n",
    "#print('Y_train shape', Y_train.shape)\n",
    "#print('Y_test shape', Y_test.shape)"
   ]
  },
  {
   "cell_type": "code",
   "execution_count": 29,
   "metadata": {},
   "outputs": [],
   "source": [
    "# Random Forest\n",
    "rf_b= RandomForestClassifier(n_estimators=500, random_state=42)\n",
    "rf_b.fit(X_train, Y_train)\n",
    "rf_score_b = rf_b.score(X_train, Y_train)\n",
    "\n",
    "# Linear Support Vector Machine\n",
    "svm_b = SVC(kernel='linear', probability=True)\n",
    "svm_b.fit(X_train, Y_train)\n",
    "svm_score_b = svm_b.score(X_train, Y_train)\n",
    "\n",
    "# Naive Bayes\n",
    "nb_b = GaussianNB()\n",
    "nb_b.fit(X_train,Y_train)\n",
    "nb_score_b = nb_b.score(X_train,Y_train)\n",
    "\n",
    "# Decision Tree\n",
    "d_tree_b = DecisionTreeClassifier(criterion=\"entropy\", max_depth=3)\n",
    "d_tree_b = d_tree_b.fit(X_train, Y_train)\n",
    "d_tree_score_b = d_tree_b.score(X_train, Y_train)"
   ]
  },
  {
   "cell_type": "code",
   "execution_count": 30,
   "metadata": {},
   "outputs": [
    {
     "data": {
      "text/html": [
       "<div>\n",
       "<style scoped>\n",
       "    .dataframe tbody tr th:only-of-type {\n",
       "        vertical-align: middle;\n",
       "    }\n",
       "\n",
       "    .dataframe tbody tr th {\n",
       "        vertical-align: top;\n",
       "    }\n",
       "\n",
       "    .dataframe thead th {\n",
       "        text-align: right;\n",
       "    }\n",
       "</style>\n",
       "<table border=\"1\" class=\"dataframe\">\n",
       "  <thead>\n",
       "    <tr style=\"text-align: right;\">\n",
       "      <th></th>\n",
       "      <th>Balanced Algorithm</th>\n",
       "      <th>Accuracy of Training Dataset</th>\n",
       "    </tr>\n",
       "  </thead>\n",
       "  <tbody>\n",
       "    <tr>\n",
       "      <th>0</th>\n",
       "      <td>Random Forest</td>\n",
       "      <td>0.999684</td>\n",
       "    </tr>\n",
       "    <tr>\n",
       "      <th>1</th>\n",
       "      <td>Support Vector Machine</td>\n",
       "      <td>0.995574</td>\n",
       "    </tr>\n",
       "    <tr>\n",
       "      <th>2</th>\n",
       "      <td>Naive Bayes</td>\n",
       "      <td>0.995574</td>\n",
       "    </tr>\n",
       "    <tr>\n",
       "      <th>3</th>\n",
       "      <td>DecisioneTree</td>\n",
       "      <td>0.790389</td>\n",
       "    </tr>\n",
       "  </tbody>\n",
       "</table>\n",
       "</div>"
      ],
      "text/plain": [
       "       Balanced Algorithm  Accuracy of Training Dataset\n",
       "0           Random Forest                      0.999684\n",
       "1  Support Vector Machine                      0.995574\n",
       "2             Naive Bayes                      0.995574\n",
       "3           DecisioneTree                      0.790389"
      ]
     },
     "execution_count": 30,
     "metadata": {},
     "output_type": "execute_result"
    }
   ],
   "source": [
    "accuracy_b = []\n",
    "algorithm_b = ['Random Forest','Support Vector Machine','Naive Bayes','DecisioneTree']\n",
    "accuracy_b.append(rf_score_b)\n",
    "accuracy_b.append(svm_score_b)\n",
    "accuracy_b.append(nb_score_b)\n",
    "accuracy_b.append(d_tree_score_b)\n",
    "score_comparisons_b = pd.DataFrame(algorithm_b, columns = ['Balanced Algorithm'])\n",
    "score_comparisons_b['Accuracy of Training Dataset'] = accuracy_b\n",
    "score_comparisons_b"
   ]
  },
  {
   "cell_type": "markdown",
   "metadata": {},
   "source": [
    "# Esecuzione Algoritmi"
   ]
  },
  {
   "cell_type": "code",
   "execution_count": 36,
   "metadata": {},
   "outputs": [
    {
     "name": "stdout",
     "output_type": "stream",
     "text": [
      "Istanze per il Testing:\n"
     ]
    },
    {
     "data": {
      "text/plain": [
       "0    412\n",
       "1    379\n",
       "Name: intention, dtype: int64"
      ]
     },
     "execution_count": 36,
     "metadata": {},
     "output_type": "execute_result"
    }
   ],
   "source": [
    "print('Istanze per il Testing:')\n",
    "Y_test.value_counts()"
   ]
  },
  {
   "cell_type": "markdown",
   "metadata": {},
   "source": [
    "## Balanced Random Forest"
   ]
  },
  {
   "cell_type": "code",
   "execution_count": 37,
   "metadata": {},
   "outputs": [
    {
     "name": "stdout",
     "output_type": "stream",
     "text": [
      "Accuracy of Testing: 0.9911504424778761\n"
     ]
    }
   ],
   "source": [
    "rf_b_pred = rf_b.predict(X_test)\n",
    "# Accuracy finale\n",
    "print('Accuracy of Testing:',accuracy_score(Y_test,rf_b_pred))"
   ]
  },
  {
   "cell_type": "code",
   "execution_count": 38,
   "metadata": {},
   "outputs": [
    {
     "name": "stdout",
     "output_type": "stream",
     "text": [
      "\n",
      "True Positives(TP) =  409\n",
      "\n",
      "True Negatives(TN) =  375\n",
      "\n",
      "False Positives(FP) =  3\n",
      "\n",
      "False Negatives(FN) =  4\n"
     ]
    },
    {
     "data": {
      "text/html": [
       "<div>\n",
       "<style scoped>\n",
       "    .dataframe tbody tr th:only-of-type {\n",
       "        vertical-align: middle;\n",
       "    }\n",
       "\n",
       "    .dataframe tbody tr th {\n",
       "        vertical-align: top;\n",
       "    }\n",
       "\n",
       "    .dataframe thead th {\n",
       "        text-align: right;\n",
       "    }\n",
       "</style>\n",
       "<table border=\"1\" class=\"dataframe\">\n",
       "  <thead>\n",
       "    <tr style=\"text-align: right;\">\n",
       "      <th></th>\n",
       "      <th>Actual Positive</th>\n",
       "      <th>Actual Negative</th>\n",
       "    </tr>\n",
       "  </thead>\n",
       "  <tbody>\n",
       "    <tr>\n",
       "      <th>Predict Positive</th>\n",
       "      <td>409</td>\n",
       "      <td>3</td>\n",
       "    </tr>\n",
       "    <tr>\n",
       "      <th>Predict Negative</th>\n",
       "      <td>4</td>\n",
       "      <td>375</td>\n",
       "    </tr>\n",
       "  </tbody>\n",
       "</table>\n",
       "</div>"
      ],
      "text/plain": [
       "                  Actual Positive  Actual Negative\n",
       "Predict Positive              409                3\n",
       "Predict Negative                4              375"
      ]
     },
     "execution_count": 38,
     "metadata": {},
     "output_type": "execute_result"
    }
   ],
   "source": [
    "#creazione della variabile contente la matrice di confusione \n",
    "m_f_b= confusion_matrix(Y_test,rf_b_pred)\n",
    "\n",
    "#mostro i valori presenti nella matrice \n",
    "print('\\nTrue Positives(TP) = ',m_f_b[0,0])\n",
    "print('\\nTrue Negatives(TN) = ',m_f_b[1,1])\n",
    "print('\\nFalse Positives(FP) = ',m_f_b[0,1])\n",
    "print('\\nFalse Negatives(FN) = ', m_f_b[1,0])\n",
    "\n",
    "# visualizzazione della matrice di confusione \n",
    "cm_b= pd.DataFrame(data=m_f_b, columns=['Actual Positive', 'Actual Negative'], \n",
    "                                 index=['Predict Positive', 'Predict Negative'])\n",
    "cm_b"
   ]
  },
  {
   "cell_type": "code",
   "execution_count": 39,
   "metadata": {},
   "outputs": [
    {
     "name": "stdout",
     "output_type": "stream",
     "text": [
      "Other Metrics:\n",
      "- TP: 409 , TN: 375 , FP: 3 , FN: 4\n",
      "- Classification accuracy: 0.9912\n",
      "- Classification error: 0.0088\n",
      "- Precision: 0.9927\n",
      "- Recall or Sensitivity: 0.9903\n",
      "- True Positive Rate: 0.9903\n",
      "- False Positive Rate: 0.0079\n",
      "- Specificity: 0.9921\n"
     ]
    }
   ],
   "source": [
    "#valori delle altre metriche \n",
    "class_rf_b = classification_report(Y_test, rf_b_pred)\n",
    "#print(\"PRINT \", type(class_rf))\n",
    "\n",
    "#print(classification_report(y_test, prediction_forest))\n",
    "# print classification accuracy\n",
    "TP = m_f_b[0,0]\n",
    "TN = m_f_b[1,1]\n",
    "FP = m_f_b[0,1]\n",
    "FN = m_f_b[1,0]\n",
    "print('Other Metrics:')\n",
    "print('- TP:',TP,\",\",'TN:',TN,\",\",'FP:',FP,\",\",'FN:', FN)\n",
    "classification_accuracy = (TP + TN) / float(TP + TN + FP + FN)\n",
    "print('- Classification accuracy: {0:0.4f}'.format(classification_accuracy))\n",
    "# print classification error\n",
    "classification_error = (FP + FN) / float(TP + TN + FP + FN)\n",
    "print('- Classification error: {0:0.4f}'.format(classification_error))\n",
    "# print precision score\n",
    "precision = TP / float(TP + FP)\n",
    "print('- Precision: {0:0.4f}'.format(precision))\n",
    "# print recall\n",
    "recall = TP / float(TP + FN)\n",
    "print('- Recall or Sensitivity: {0:0.4f}'.format(recall))\n",
    "# punteggio veri positivi\n",
    "true_positive_rate = TP / float(TP + FN)\n",
    "print('- True Positive Rate: {0:0.4f}'.format(true_positive_rate))\n",
    "# punteggio falsi positivi\n",
    "false_positive_rate = FP / float(FP + TN)\n",
    "print('- False Positive Rate: {0:0.4f}'.format(false_positive_rate))\n",
    "# print specifity\n",
    "specificity = TN / (TN + FP)\n",
    "print('- Specificity: {0:0.4f}'.format(specificity))"
   ]
  },
  {
   "cell_type": "code",
   "execution_count": 40,
   "metadata": {},
   "outputs": [
    {
     "data": {
      "image/png": "[encoded data removed]",
      "text/plain": [
       "<Figure size 720x576 with 1 Axes>"
      ]
     },
     "metadata": {},
     "output_type": "display_data"
    }
   ],
   "source": [
    "#Curva ROC per vedere l'efficacia del classificatore \n",
    "rf_roc_b = roc_auc_score(Y_test, rf_b.predict(X_test))\n",
    "fpr_rf_b, tpr_rf_b, thresholds_rf_b = roc_curve(Y_test, rf_b.predict_proba(X_test)[:, 1])\n",
    "plt.figure(figsize=(10,8))\n",
    "plt.plot(fpr_rf_b, tpr_rf_b,linewidth=2)\n",
    "plt.plot([0,1], [0,1], 'k--' )\n",
    "plt.rcParams['font.size'] = 12\n",
    "plt.title('ROC curve of Balanced Random Forest')\n",
    "plt.xlabel('False Positive Rate (1 - Specificity)')\n",
    "plt.ylabel('True Positive Rate (Sensitivity)')\n",
    "plt.show()"
   ]
  },
  {
   "cell_type": "markdown",
   "metadata": {},
   "source": [
    "## Balanced SVM"
   ]
  },
  {
   "cell_type": "code",
   "execution_count": 41,
   "metadata": {},
   "outputs": [
    {
     "name": "stdout",
     "output_type": "stream",
     "text": [
      "Accuracy finale: 0.9835651074589128\n"
     ]
    }
   ],
   "source": [
    "svm_pred_b = svm_b.predict(X_test)\n",
    "print('Accuracy finale:',accuracy_score(Y_test,svm_pred_b))"
   ]
  },
  {
   "cell_type": "code",
   "execution_count": 42,
   "metadata": {},
   "outputs": [
    {
     "name": "stdout",
     "output_type": "stream",
     "text": [
      "\n",
      "True Positives(TP) =  401\n",
      "\n",
      "True Negatives(TN) =  377\n",
      "\n",
      "False Positives(FP) =  11\n",
      "\n",
      "False Negatives(FN) =  2\n"
     ]
    },
    {
     "data": {
      "text/html": [
       "<div>\n",
       "<style scoped>\n",
       "    .dataframe tbody tr th:only-of-type {\n",
       "        vertical-align: middle;\n",
       "    }\n",
       "\n",
       "    .dataframe tbody tr th {\n",
       "        vertical-align: top;\n",
       "    }\n",
       "\n",
       "    .dataframe thead th {\n",
       "        text-align: right;\n",
       "    }\n",
       "</style>\n",
       "<table border=\"1\" class=\"dataframe\">\n",
       "  <thead>\n",
       "    <tr style=\"text-align: right;\">\n",
       "      <th></th>\n",
       "      <th>Actual Positive</th>\n",
       "      <th>Actual Negative</th>\n",
       "    </tr>\n",
       "  </thead>\n",
       "  <tbody>\n",
       "    <tr>\n",
       "      <th>Predict Positive</th>\n",
       "      <td>401</td>\n",
       "      <td>11</td>\n",
       "    </tr>\n",
       "    <tr>\n",
       "      <th>Predict Negative</th>\n",
       "      <td>2</td>\n",
       "      <td>377</td>\n",
       "    </tr>\n",
       "  </tbody>\n",
       "</table>\n",
       "</div>"
      ],
      "text/plain": [
       "                  Actual Positive  Actual Negative\n",
       "Predict Positive              401               11\n",
       "Predict Negative                2              377"
      ]
     },
     "execution_count": 42,
     "metadata": {},
     "output_type": "execute_result"
    }
   ],
   "source": [
    "#creazione della variabile contente la matrice di confusione \n",
    "m_svm_b = confusion_matrix(Y_test,svm_pred_b)\n",
    "\n",
    "#mostro i valori presenti nella matrice \n",
    "print('\\nTrue Positives(TP) = ',m_svm_b[0,0])\n",
    "print('\\nTrue Negatives(TN) = ',m_svm_b[1,1])\n",
    "print('\\nFalse Positives(FP) = ',m_svm_b[0,1])\n",
    "print('\\nFalse Negatives(FN) = ', m_svm_b[1,0])\n",
    "\n",
    "# visualizzazione della matrice di confusione \n",
    "cm_svm_b= pd.DataFrame(data=m_svm_b, columns=['Actual Positive', 'Actual Negative'], \n",
    "                                 index=['Predict Positive', 'Predict Negative'])\n",
    "cm_svm_b"
   ]
  },
  {
   "cell_type": "code",
   "execution_count": 43,
   "metadata": {},
   "outputs": [
    {
     "name": "stdout",
     "output_type": "stream",
     "text": [
      "Other Metrics:\n",
      "- TP: 401 , TN: 377 , FP: 11 , FN: 2\n",
      "- Classification accuracy: 0.9836\n",
      "- Classification error: 0.0164\n",
      "- Precision: 0.9733\n",
      "- Recall or Sensitivity: 0.9950\n",
      "- True Positive Rate: 0.9950\n",
      "- False Positive Rate: 0.0284\n",
      "- Specificity: 0.9716\n"
     ]
    }
   ],
   "source": [
    "#valori delle altre metriche \n",
    "class_svm_b = classification_report(Y_test, svm_pred_b)\n",
    "#print(\"PRINT \", type(class_rf))\n",
    "\n",
    "#print(classification_report(y_test, prediction_forest))\n",
    "# print classification accuracy\n",
    "TP = m_svm_b[0,0]\n",
    "TN = m_svm_b[1,1]\n",
    "FP = m_svm_b[0,1]\n",
    "FN = m_svm_b[1,0]\n",
    "print('Other Metrics:')\n",
    "print('- TP:',TP,\",\",'TN:',TN,\",\",'FP:',FP,\",\",'FN:', FN)\n",
    "classification_accuracy = (TP + TN) / float(TP + TN + FP + FN)\n",
    "print('- Classification accuracy: {0:0.4f}'.format(classification_accuracy))\n",
    "# print classification error\n",
    "classification_error = (FP + FN) / float(TP + TN + FP + FN)\n",
    "print('- Classification error: {0:0.4f}'.format(classification_error))\n",
    "# print precision score\n",
    "precision = TP / float(TP + FP)\n",
    "print('- Precision: {0:0.4f}'.format(precision))\n",
    "# print recall\n",
    "recall = TP / float(TP + FN)\n",
    "print('- Recall or Sensitivity: {0:0.4f}'.format(recall))\n",
    "# punteggio veri positivi\n",
    "true_positive_rate = TP / float(TP + FN)\n",
    "print('- True Positive Rate: {0:0.4f}'.format(true_positive_rate))\n",
    "# punteggio falsi positivi\n",
    "false_positive_rate = FP / float(FP + TN)\n",
    "print('- False Positive Rate: {0:0.4f}'.format(false_positive_rate))\n",
    "# print specifity\n",
    "specificity = TN / (TN + FP)\n",
    "print('- Specificity: {0:0.4f}'.format(specificity))"
   ]
  },
  {
   "cell_type": "code",
   "execution_count": 44,
   "metadata": {},
   "outputs": [
    {
     "data": {
      "image/png": "[encoded data removed]",
      "text/plain": [
       "<Figure size 720x576 with 1 Axes>"
      ]
     },
     "metadata": {},
     "output_type": "display_data"
    }
   ],
   "source": [
    "#Curva ROC per vedere l'efficacia del classificatore \n",
    "svm_roc_b = roc_auc_score(Y_test, svm_b.predict(X_test))\n",
    "fpr_svm_b, tpr_svm_b, thresholds_svm_b = roc_curve(Y_test, svm_b.predict_proba(X_test)[:, 1])\n",
    "plt.figure(figsize=(10,8))\n",
    "plt.plot(fpr_svm_b, tpr_svm_b, linewidth=2)\n",
    "plt.plot([0,1], [0,1], 'k--' )\n",
    "plt.rcParams['font.size'] = 12\n",
    "plt.title('ROC curve of  Balanced SVM')\n",
    "plt.xlabel('False Positive Rate (1 - Specificity)')\n",
    "plt.ylabel('True Positive Rate (Sensitivity)')\n",
    "plt.show()"
   ]
  },
  {
   "cell_type": "markdown",
   "metadata": {},
   "source": [
    "## Balanced Naive Bayes"
   ]
  },
  {
   "cell_type": "code",
   "execution_count": 45,
   "metadata": {},
   "outputs": [
    {
     "name": "stdout",
     "output_type": "stream",
     "text": [
      "Accuracy finale: 0.9671302149178256\n"
     ]
    }
   ],
   "source": [
    "nb_pred_b = nb_b.predict(X_test)\n",
    "print('Accuracy finale:',accuracy_score(Y_test,nb_pred_b))"
   ]
  },
  {
   "cell_type": "code",
   "execution_count": 46,
   "metadata": {},
   "outputs": [
    {
     "name": "stdout",
     "output_type": "stream",
     "text": [
      "\n",
      "True Positives(TP) =  386\n",
      "\n",
      "True Negatives(TN) =  379\n",
      "\n",
      "False Positives(FP) =  26\n",
      "\n",
      "False Negatives(FN) =  0\n"
     ]
    },
    {
     "data": {
      "text/html": [
       "<div>\n",
       "<style scoped>\n",
       "    .dataframe tbody tr th:only-of-type {\n",
       "        vertical-align: middle;\n",
       "    }\n",
       "\n",
       "    .dataframe tbody tr th {\n",
       "        vertical-align: top;\n",
       "    }\n",
       "\n",
       "    .dataframe thead th {\n",
       "        text-align: right;\n",
       "    }\n",
       "</style>\n",
       "<table border=\"1\" class=\"dataframe\">\n",
       "  <thead>\n",
       "    <tr style=\"text-align: right;\">\n",
       "      <th></th>\n",
       "      <th>Actual Positive</th>\n",
       "      <th>Actual Negative</th>\n",
       "    </tr>\n",
       "  </thead>\n",
       "  <tbody>\n",
       "    <tr>\n",
       "      <th>Predict Positive</th>\n",
       "      <td>386</td>\n",
       "      <td>26</td>\n",
       "    </tr>\n",
       "    <tr>\n",
       "      <th>Predict Negative</th>\n",
       "      <td>0</td>\n",
       "      <td>379</td>\n",
       "    </tr>\n",
       "  </tbody>\n",
       "</table>\n",
       "</div>"
      ],
      "text/plain": [
       "                  Actual Positive  Actual Negative\n",
       "Predict Positive              386               26\n",
       "Predict Negative                0              379"
      ]
     },
     "execution_count": 46,
     "metadata": {},
     "output_type": "execute_result"
    }
   ],
   "source": [
    "#creazione della variabile contente la matrice di confusione \n",
    "m_nb_b = confusion_matrix(Y_test,nb_pred_b)\n",
    "\n",
    "#mostro i valori presenti nella matrice \n",
    "print('\\nTrue Positives(TP) = ',m_nb_b[0,0])\n",
    "print('\\nTrue Negatives(TN) = ',m_nb_b[1,1])\n",
    "print('\\nFalse Positives(FP) = ',m_nb_b[0,1])\n",
    "print('\\nFalse Negatives(FN) = ', m_nb_b[1,0])\n",
    "\n",
    "# visualizzazione della matrice di confusione \n",
    "cm_nb_b = pd.DataFrame(data=m_nb_b, columns=['Actual Positive', 'Actual Negative'], \n",
    "                                 index=['Predict Positive', 'Predict Negative'])\n",
    "cm_nb_b"
   ]
  },
  {
   "cell_type": "code",
   "execution_count": 47,
   "metadata": {},
   "outputs": [
    {
     "name": "stdout",
     "output_type": "stream",
     "text": [
      "Other Metrics:\n",
      "- TP: 386 , TN: 379 , FP: 26 , FN: 0\n",
      "- Classification accuracy: 0.9671\n",
      "- Classification error: 0.0329\n",
      "- Precision: 0.9369\n",
      "- Recall or Sensitivity: 1.0000\n",
      "- True Positive Rate: 1.0000\n",
      "- False Positive Rate: 0.0642\n",
      "- Specificity: 0.9358\n"
     ]
    }
   ],
   "source": [
    "#valori delle altre metriche \n",
    "class_nb_b = classification_report(Y_test, nb_pred_b)\n",
    "#print(\"PRINT \", type(class_rf))\n",
    "\n",
    "#print(classification_report(y_test, prediction_forest))\n",
    "# print classification accuracy\n",
    "TP = m_nb_b[0,0]\n",
    "TN = m_nb_b[1,1]\n",
    "FP = m_nb_b[0,1]\n",
    "FN = m_nb_b[1,0]\n",
    "print('Other Metrics:')\n",
    "print('- TP:',TP,\",\",'TN:',TN,\",\",'FP:',FP,\",\",'FN:', FN)\n",
    "classification_accuracy = (TP + TN) / float(TP + TN + FP + FN)\n",
    "print('- Classification accuracy: {0:0.4f}'.format(classification_accuracy))\n",
    "# print classification error\n",
    "classification_error = (FP + FN) / float(TP + TN + FP + FN)\n",
    "print('- Classification error: {0:0.4f}'.format(classification_error))\n",
    "# print precision score\n",
    "precision = TP / float(TP + FP)\n",
    "print('- Precision: {0:0.4f}'.format(precision))\n",
    "# print recall\n",
    "recall = TP / float(TP + FN)\n",
    "print('- Recall or Sensitivity: {0:0.4f}'.format(recall))\n",
    "# punteggio veri positivi\n",
    "true_positive_rate = TP / float(TP + FN)\n",
    "print('- True Positive Rate: {0:0.4f}'.format(true_positive_rate))\n",
    "# punteggio falsi positivi\n",
    "false_positive_rate = FP / float(FP + TN)\n",
    "print('- False Positive Rate: {0:0.4f}'.format(false_positive_rate))\n",
    "# print specifity\n",
    "specificity = TN / (TN + FP)\n",
    "print('- Specificity: {0:0.4f}'.format(specificity))"
   ]
  },
  {
   "cell_type": "code",
   "execution_count": 48,
   "metadata": {},
   "outputs": [
    {
     "data": {
      "image/png": "[encoded data removed]",
      "text/plain": [
       "<Figure size 720x576 with 1 Axes>"
      ]
     },
     "metadata": {},
     "output_type": "display_data"
    }
   ],
   "source": [
    "nb_roc_b = roc_auc_score(Y_test, nb_b.predict(X_test))\n",
    "fpr_nb_b, tpr_nb_b, thresholds_nb_b = roc_curve(Y_test, nb_b.predict_proba(X_test)[:, 1])\n",
    "plt.figure(figsize=(10,8))\n",
    "plt.plot(fpr_nb_b, tpr_nb_b, linewidth=2)\n",
    "plt.plot([0,1], [0,1], 'k--' )\n",
    "plt.rcParams['font.size'] = 12\n",
    "plt.title('ROC curve of Naive Bayes')\n",
    "plt.xlabel('False Positive Rate (1 - Specificity)')\n",
    "plt.ylabel('True Positive Rate (Sensitivity)')\n",
    "plt.show()"
   ]
  },
  {
   "cell_type": "markdown",
   "metadata": {},
   "source": [
    "## Balanced Decision Tree"
   ]
  },
  {
   "cell_type": "code",
   "execution_count": 49,
   "metadata": {},
   "outputs": [
    {
     "name": "stdout",
     "output_type": "stream",
     "text": [
      "Accuracy finale: 0.8103666245259166\n"
     ]
    }
   ],
   "source": [
    "d_tree_pred_b = d_tree_b.predict(X_test)\n",
    "print('Accuracy finale:',accuracy_score(Y_test,d_tree_pred_b))"
   ]
  },
  {
   "cell_type": "code",
   "execution_count": 50,
   "metadata": {},
   "outputs": [
    {
     "name": "stdout",
     "output_type": "stream",
     "text": [
      "\n",
      "True Positives(TP) =  304\n",
      "\n",
      "True Negatives(TN) =  337\n",
      "\n",
      "False Positives(FP) =  108\n",
      "\n",
      "False Negatives(FN) =  42\n"
     ]
    },
    {
     "data": {
      "text/html": [
       "<div>\n",
       "<style scoped>\n",
       "    .dataframe tbody tr th:only-of-type {\n",
       "        vertical-align: middle;\n",
       "    }\n",
       "\n",
       "    .dataframe tbody tr th {\n",
       "        vertical-align: top;\n",
       "    }\n",
       "\n",
       "    .dataframe thead th {\n",
       "        text-align: right;\n",
       "    }\n",
       "</style>\n",
       "<table border=\"1\" class=\"dataframe\">\n",
       "  <thead>\n",
       "    <tr style=\"text-align: right;\">\n",
       "      <th></th>\n",
       "      <th>Actual Positive</th>\n",
       "      <th>Actual Negative</th>\n",
       "    </tr>\n",
       "  </thead>\n",
       "  <tbody>\n",
       "    <tr>\n",
       "      <th>Predict Positive</th>\n",
       "      <td>304</td>\n",
       "      <td>108</td>\n",
       "    </tr>\n",
       "    <tr>\n",
       "      <th>Predict Negative</th>\n",
       "      <td>42</td>\n",
       "      <td>337</td>\n",
       "    </tr>\n",
       "  </tbody>\n",
       "</table>\n",
       "</div>"
      ],
      "text/plain": [
       "                  Actual Positive  Actual Negative\n",
       "Predict Positive              304              108\n",
       "Predict Negative               42              337"
      ]
     },
     "execution_count": 50,
     "metadata": {},
     "output_type": "execute_result"
    }
   ],
   "source": [
    "#creazione della variabile contente la matrice di confusione \n",
    "m_dtree_b= confusion_matrix(Y_test,d_tree_pred_b)\n",
    "\n",
    "#mostro i valori presenti nella matrice \n",
    "print('\\nTrue Positives(TP) = ',m_dtree_b[0,0])\n",
    "print('\\nTrue Negatives(TN) = ',m_dtree_b[1,1])\n",
    "print('\\nFalse Positives(FP) = ',m_dtree_b[0,1])\n",
    "print('\\nFalse Negatives(FN) = ',m_dtree_b[1,0])\n",
    "\n",
    "# visualizzazione della matrice di confusione \n",
    "cm_dtree_b= pd.DataFrame(data=m_dtree_b, columns=['Actual Positive', 'Actual Negative'], \n",
    "                                 index=['Predict Positive', 'Predict Negative'])\n",
    "cm_dtree_b"
   ]
  },
  {
   "cell_type": "code",
   "execution_count": 51,
   "metadata": {},
   "outputs": [
    {
     "name": "stdout",
     "output_type": "stream",
     "text": [
      "Other Metrics:\n",
      "- TP: 304 , TN: 337 , FP: 108 , FN: 42\n",
      "- Classification accuracy: 0.8104\n",
      "- Classification error: 0.1896\n",
      "- Precision: 0.7379\n",
      "- Recall or Sensitivity: 0.8786\n",
      "- True Positive Rate: 0.8786\n",
      "- False Positive Rate: 0.2427\n",
      "- Specificity: 0.7573\n"
     ]
    }
   ],
   "source": [
    "#valori delle altre metriche \n",
    "class_dtree_b = classification_report(Y_test, d_tree_pred_b)\n",
    "#print(\"PRINT \", type(class_rf))\n",
    "\n",
    "#print(classification_report(y_test, prediction_forest))\n",
    "# print classification accuracy\n",
    "TP = m_dtree_b[0,0]\n",
    "TN = m_dtree_b[1,1]\n",
    "FP = m_dtree_b[0,1]\n",
    "FN = m_dtree_b[1,0]\n",
    "print('Other Metrics:')\n",
    "print('- TP:',TP,\",\",'TN:',TN,\",\",'FP:',FP,\",\",'FN:', FN)\n",
    "classification_accuracy = (TP + TN) / float(TP + TN + FP + FN)\n",
    "print('- Classification accuracy: {0:0.4f}'.format(classification_accuracy))\n",
    "# print classification error\n",
    "classification_error = (FP + FN) / float(TP + TN + FP + FN)\n",
    "print('- Classification error: {0:0.4f}'.format(classification_error))\n",
    "# print precision score\n",
    "precision = TP / float(TP + FP)\n",
    "print('- Precision: {0:0.4f}'.format(precision))\n",
    "# print recall\n",
    "recall = TP / float(TP + FN)\n",
    "print('- Recall or Sensitivity: {0:0.4f}'.format(recall))\n",
    "# punteggio veri positivi\n",
    "true_positive_rate = TP / float(TP + FN)\n",
    "print('- True Positive Rate: {0:0.4f}'.format(true_positive_rate))\n",
    "# punteggio falsi positivi\n",
    "false_positive_rate = FP / float(FP + TN)\n",
    "print('- False Positive Rate: {0:0.4f}'.format(false_positive_rate))\n",
    "# print specifity\n",
    "specificity = TN / (TN + FP)\n",
    "print('- Specificity: {0:0.4f}'.format(specificity))"
   ]
  },
  {
   "cell_type": "code",
   "execution_count": 52,
   "metadata": {},
   "outputs": [
    {
     "data": {
      "image/png": "[encoded data removed]",
      "text/plain": [
       "<Figure size 720x576 with 1 Axes>"
      ]
     },
     "metadata": {},
     "output_type": "display_data"
    }
   ],
   "source": [
    "#Curva ROC per vedere l'efficacia del classificatore \n",
    "dtree_roc_b = roc_auc_score(Y_test, d_tree_b.predict(X_test))\n",
    "fpr_dtree_b, tpr_dtree_b, thresholds_dtree_b = roc_curve(Y_test,d_tree_b.predict_proba(X_test)[:, 1])\n",
    "plt.figure(figsize=(10,8))\n",
    "plt.plot(fpr_dtree_b, tpr_dtree_b, linewidth=2)\n",
    "plt.plot([0,1], [0,1], 'k--' )\n",
    "plt.rcParams['font.size'] = 12\n",
    "plt.title('ROC curve of Decision Tree')\n",
    "plt.xlabel('False Positive Rate (1 - Specificity)')\n",
    "plt.ylabel('True Positive Rate (Sensitivity)')\n",
    "plt.show()"
   ]
  },
  {
   "cell_type": "markdown",
   "metadata": {},
   "source": [
    "## Confronto delle ROC Curve"
   ]
  },
  {
   "cell_type": "code",
   "execution_count": 53,
   "metadata": {},
   "outputs": [
    {
     "data": {
      "image/png": "[encoded data removed]",
      "text/plain": [
       "<Figure size 864x720 with 1 Axes>"
      ]
     },
     "metadata": {},
     "output_type": "display_data"
    }
   ],
   "source": [
    "plt.figure(figsize=(12,10))\n",
    "plt.plot(fpr_rf_b, tpr_rf_b, linewidth=1)\n",
    "plt.plot(fpr_rf_b, tpr_rf_b, label='Random Forest (area = %0.2f)' % rf_roc_b)\n",
    "plt.plot(fpr_svm_b, tpr_svm_b, linewidth=1)\n",
    "plt.plot(fpr_svm_b, tpr_svm_b, label='SVM (area = %0.2f)' % svm_roc_b)\n",
    "plt.plot(fpr_nb_b, tpr_nb_b, linewidth=1)\n",
    "plt.plot(fpr_nb_b, tpr_nb_b, label='Naive Bayes (area = %0.2f)' % nb_roc_b)\n",
    "plt.plot(fpr_dtree_b, tpr_dtree_b, linewidth=1)\n",
    "plt.plot(fpr_dtree_b, tpr_dtree_b, label='Decision Tree (area = %0.2f)' % dtree_roc_b)\n",
    "plt.plot([0, 1], [0, 1],'r--')\n",
    "plt.xlim([0.0, 1.0])\n",
    "plt.ylim([0.0, 1.05])\n",
    "plt.rcParams['font.size'] = 10\n",
    "plt.xlabel('False Positive Rate')\n",
    "plt.ylabel('True Positive Rate')\n",
    "plt.title('Comparison of ROC Curves')\n",
    "plt.legend(loc=\"lower right\")\n",
    "plt.show()"
   ]
  },
  {
   "cell_type": "markdown",
   "metadata": {},
   "source": [
    "Quello che possiamo notare è che i classifcaotri Random Forest e SVM sono quasi uguali, quindi affermiamo che essi, in questo caso, sono \n",
    "i migliori classificatori con un dataset bilanciato."
   ]
  },
  {
   "cell_type": "code",
   "execution_count": null,
   "metadata": {},
   "outputs": [],
   "source": []
  }
 ],
 "metadata": {
  "interpreter": {
   "hash": "c374984d3a72ae240d4b20a7f83c6929eb4af6ca53a801826636618545bf1791"
  },
  "kernelspec": {
   "display_name": "Python 3.8.5 64-bit ('base': conda)",
   "language": "python",
   "name": "python3"
  },
  "language_info": {
   "codemirror_mode": {
    "name": "ipython",
    "version": 3
   },
   "file_extension": ".py",
   "mimetype": "text/x-python",
   "name": "python",
   "nbconvert_exporter": "python",
   "pygments_lexer": "ipython3",
   "version": "3.8.5"
  },
  "orig_nbformat": 4
 },
 "nbformat": 4,
 "nbformat_minor": 2
}
